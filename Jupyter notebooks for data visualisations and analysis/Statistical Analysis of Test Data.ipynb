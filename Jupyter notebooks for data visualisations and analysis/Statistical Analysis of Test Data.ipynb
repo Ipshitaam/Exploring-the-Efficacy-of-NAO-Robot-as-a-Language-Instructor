{
  "nbformat": 4,
  "nbformat_minor": 0,
  "metadata": {
    "colab": {
      "provenance": []
    },
    "kernelspec": {
      "name": "python3",
      "display_name": "Python 3"
    },
    "language_info": {
      "name": "python"
    }
  },
  "cells": [
    {
      "cell_type": "markdown",
      "source": [
        "This cell block is for importing all the required libraries"
      ],
      "metadata": {
        "id": "nFlAZKwDaF26"
      }
    },
    {
      "cell_type": "code",
      "execution_count": null,
      "metadata": {
        "id": "TxaqVXM2SI2b"
      },
      "outputs": [],
      "source": [
        "import pandas as pd\n",
        "import numpy as np\n",
        "from scipy import stats\n",
        "from scipy.stats import levene\n",
        "from statsmodels.formula.api import ols\n",
        "import statsmodels.formula.api as smf\n",
        "from statsmodels.stats.anova import anova_lm\n",
        "from scipy.stats import ttest_ind"
      ]
    },
    {
      "cell_type": "code",
      "source": [
        "# Mount your Google Drive (authentication required only for the first time)\n",
        "from google.colab import drive\n",
        "drive.mount('/content/gdrive')"
      ],
      "metadata": {
        "colab": {
          "base_uri": "https://localhost:8080/"
        },
        "id": "bhV-ZSHVckBW",
        "outputId": "b3b640c5-fb3f-4a80-efbd-19be155b6e9f"
      },
      "execution_count": null,
      "outputs": [
        {
          "output_type": "stream",
          "name": "stdout",
          "text": [
            "Mounted at /content/gdrive\n"
          ]
        }
      ]
    },
    {
      "cell_type": "code",
      "source": [
        "# Specify the path to your CSV file on Google Drive (replace with your actual path)\n",
        "data_path = '/content/gdrive/MyDrive/HRI Project CSV Data/Test Score and Evaluation Score Data - Sheet1.csv'\n",
        "\n",
        "# Read the data from the CSV file\n",
        "data = pd.read_csv(data_path)"
      ],
      "metadata": {
        "id": "GffrhVs4cbej"
      },
      "execution_count": null,
      "outputs": []
    },
    {
      "cell_type": "markdown",
      "source": [
        "This cell block contains code to perfoerm the ANOVA test"
      ],
      "metadata": {
        "id": "PC5BbVtJkVGB"
      }
    },
    {
      "cell_type": "code",
      "source": [
        "import statsmodels.api as sm\n",
        "import statsmodels.formula.api as smf\n",
        "from statsmodels.stats.anova import anova_lm\n",
        "import pandas as pd\n",
        "\n",
        "# Assuming 'data' is your DataFrame containing the dataset\n",
        "\n",
        "# Fit the ANOVA model with ChangeInTestScore as the target variable and LearningProcess and Gender as the grouping variables:\n",
        "model = smf.ols(\"ChangeInTestScore ~ C(LearningProcess) * C(Gender)\", data=data).fit()\n",
        "\n",
        "# Perform ANOVA with type 2 tests for mixed effects:\n",
        "results_anova = anova_lm(model, typ=2)\n",
        "\n",
        "# Get the total sum of squares (SS):\n",
        "ss_total = results_anova['sum_sq'].sum()\n",
        "\n",
        "# Calculate eta-squared (η²):\n",
        "eta_squared = results_anova['sum_sq'] / ss_total\n",
        "\n",
        "# Calculate partial eta-squared (η²_p):\n",
        "df_group = results_anova['df'][0]  # Degrees of freedom for the group variable\n",
        "df_residual = results_anova['df'][1]  # Degrees of freedom for the residual\n",
        "eta_squared_partial = (results_anova['sum_sq'] / (results_anova['sum_sq'] + df_residual * model.mse_resid)) * df_group\n",
        "\n",
        "# Combine ANOVA results with eta-squared and partial eta-squared:\n",
        "results_combined = pd.concat([results_anova, eta_squared.rename('eta_squared'), eta_squared_partial.rename('partial_eta_squared')], axis=1)\n",
        "\n",
        "# Print the combined results:\n",
        "print(results_combined)"
      ],
      "metadata": {
        "colab": {
          "base_uri": "https://localhost:8080/"
        },
        "id": "yFmxOJ0VdA2y",
        "outputId": "cf3008cd-9749-468a-9ffe-724bd0dfec84"
      },
      "execution_count": null,
      "outputs": [
        {
          "output_type": "stream",
          "name": "stdout",
          "text": [
            "                                  sum_sq    df         F    PR(>F)  \\\n",
            "C(LearningProcess)             38.285714   2.0  1.501401  0.254468   \n",
            "C(Gender)                       2.571429   1.0  0.201681  0.659788   \n",
            "C(LearningProcess):C(Gender)   10.464286   2.0  0.410364  0.670635   \n",
            "Residual                      191.250000  15.0       NaN       NaN   \n",
            "\n",
            "                              eta_squared  partial_eta_squared  \n",
            "C(LearningProcess)               0.157833             1.500350  \n",
            "C(Gender)                        0.010601             0.335664  \n",
            "C(LearningProcess):C(Gender)     0.043139             0.901538  \n",
            "Residual                         0.788428             1.875000  \n"
          ]
        }
      ]
    },
    {
      "cell_type": "code",
      "source": [
        "import statsmodels.api as sm\n",
        "import statsmodels.formula.api as smf\n",
        "from statsmodels.stats.anova import anova_lm\n",
        "import pandas as pd\n",
        "\n",
        "# Assuming 'data' is your DataFrame containing the dataset\n",
        "\n",
        "# Fit the ANOVA model with ChangeInTestScore as the target variable and LearningProcess, Gender, and their interaction as the grouping variables:\n",
        "model = smf.ols(\"ChangeInTestScore ~ C(LearningProcess) + C(Gender) + C(LearningProcess):C(Gender)\", data=data).fit()\n",
        "\n",
        "# Print the model summary:\n",
        "print(model.summary())\n",
        "\n",
        "# Perform ANOVA with type 2 tests for mixed effects:\n",
        "results_anova = anova_lm(model, typ=2)\n",
        "\n",
        "# Get the total sum of squares (SS):\n",
        "ss_total = results_anova['sum_sq'].sum()\n",
        "\n",
        "# Calculate eta-squared (η²):\n",
        "eta_squared = results_anova['sum_sq'] / ss_total\n",
        "\n",
        "# Calculate partial eta-squared (η²_p):\n",
        "df_group = results_anova['df'][0]  # Degrees of freedom for the group variable\n",
        "df_residual = results_anova['df'][1]  # Degrees of freedom for the residual\n",
        "eta_squared_partial = (results_anova['sum_sq'] / (results_anova['sum_sq'] + df_residual * model.mse_resid)) * df_group\n",
        "\n",
        "# Combine ANOVA results with eta-squared and partial eta-squared:\n",
        "results_combined = pd.concat([results_anova, eta_squared.rename('eta_squared'), eta_squared_partial.rename('partial_eta_squared')], axis=1)\n",
        "\n",
        "# Print the combined results:\n",
        "print(results_combined)"
      ],
      "metadata": {
        "colab": {
          "base_uri": "https://localhost:8080/"
        },
        "id": "S1plNycjfO9J",
        "outputId": "769dc1f0-3358-4548-ebdb-c72e550ad5c0"
      },
      "execution_count": null,
      "outputs": [
        {
          "output_type": "stream",
          "name": "stdout",
          "text": [
            "                            OLS Regression Results                            \n",
            "==============================================================================\n",
            "Dep. Variable:      ChangeInTestScore   R-squared:                       0.207\n",
            "Model:                            OLS   Adj. R-squared:                 -0.057\n",
            "Method:                 Least Squares   F-statistic:                    0.7841\n",
            "Date:                Sun, 17 Mar 2024   Prob (F-statistic):              0.577\n",
            "Time:                        12:05:38   Log-Likelihood:                -52.993\n",
            "No. Observations:                  21   AIC:                             118.0\n",
            "Df Residuals:                      15   BIC:                             124.3\n",
            "Df Model:                           5                                         \n",
            "Covariance Type:            nonrobust                                         \n",
            "===============================================================================================================\n",
            "                                                  coef    std err          t      P>|t|      [0.025      0.975]\n",
            "---------------------------------------------------------------------------------------------------------------\n",
            "Intercept                                      13.6000      1.597      8.517      0.000      10.196      17.004\n",
            "C(LearningProcess)[T.HLL]                       3.4000      2.608      1.304      0.212      -2.158       8.958\n",
            "C(LearningProcess)[T.RLL]                       4.2000      2.258      1.860      0.083      -0.613       9.013\n",
            "C(Gender)[T.Male]                               1.4000      2.987      0.469      0.646      -4.968       7.768\n",
            "C(LearningProcess)[T.HLL]:C(Gender)[T.Male]    -2.6500      4.045     -0.655      0.522     -11.272       5.972\n",
            "C(LearningProcess)[T.RLL]:C(Gender)[T.Male]    -3.7000      4.225     -0.876      0.395     -12.705       5.305\n",
            "==============================================================================\n",
            "Omnibus:                        3.119   Durbin-Watson:                   1.947\n",
            "Prob(Omnibus):                  0.210   Jarque-Bera (JB):                1.580\n",
            "Skew:                          -0.631   Prob(JB):                        0.454\n",
            "Kurtosis:                       3.460   Cond. No.                         9.53\n",
            "==============================================================================\n",
            "\n",
            "Notes:\n",
            "[1] Standard Errors assume that the covariance matrix of the errors is correctly specified.\n",
            "                                  sum_sq    df         F    PR(>F)  \\\n",
            "C(LearningProcess)             38.285714   2.0  1.501401  0.254468   \n",
            "C(Gender)                       2.571429   1.0  0.201681  0.659788   \n",
            "C(LearningProcess):C(Gender)   10.464286   2.0  0.410364  0.670635   \n",
            "Residual                      191.250000  15.0       NaN       NaN   \n",
            "\n",
            "                              eta_squared  partial_eta_squared  \n",
            "C(LearningProcess)               0.157833             1.500350  \n",
            "C(Gender)                        0.010601             0.335664  \n",
            "C(LearningProcess):C(Gender)     0.043139             0.901538  \n",
            "Residual                         0.788428             1.875000  \n"
          ]
        }
      ]
    },
    {
      "cell_type": "code",
      "source": [
        "# Assuming 'data' is your DataFrame containing the independent variables (LearningProcess and Gender)\n",
        "\n",
        "# Convert categorical variables to one-hot encoded format\n",
        "data_encoded = pd.get_dummies(data, columns=['LearningProcess', 'Gender'])\n",
        "\n",
        "# Calculate the correlation matrix\n",
        "correlation_matrix = data_encoded.corr()\n",
        "\n",
        "# Print the correlation matrix\n",
        "print(correlation_matrix)\n"
      ],
      "metadata": {
        "colab": {
          "base_uri": "https://localhost:8080/"
        },
        "id": "oqSq1RQzAAuq",
        "outputId": "0437a5ca-768d-410b-c98a-f4d489bf8d0e"
      },
      "execution_count": null,
      "outputs": [
        {
          "output_type": "stream",
          "name": "stdout",
          "text": [
            "                                ChangeInTestScore  \\\n",
            "ChangeInTestScore                        1.000000   \n",
            "LearningProcessEvaluationScore           0.031544   \n",
            "LearningProcess_ALL                     -0.377517   \n",
            "LearningProcess_HLL                      0.099346   \n",
            "LearningProcess_RLL                      0.278170   \n",
            "Gender_Female                            0.071640   \n",
            "Gender_Male                             -0.071640   \n",
            "\n",
            "                                LearningProcessEvaluationScore  \\\n",
            "ChangeInTestScore                                 3.154371e-02   \n",
            "LearningProcessEvaluationScore                    1.000000e+00   \n",
            "LearningProcess_ALL                              -9.331128e-17   \n",
            "LearningProcess_HLL                              -2.801578e-01   \n",
            "LearningProcess_RLL                               2.801578e-01   \n",
            "Gender_Female                                    -1.942545e-01   \n",
            "Gender_Male                                       1.942545e-01   \n",
            "\n",
            "                                LearningProcess_ALL  LearningProcess_HLL  \\\n",
            "ChangeInTestScore                     -3.775166e-01             0.099346   \n",
            "LearningProcessEvaluationScore        -9.331128e-17            -0.280158   \n",
            "LearningProcess_ALL                    1.000000e+00            -0.500000   \n",
            "LearningProcess_HLL                   -5.000000e-01             1.000000   \n",
            "LearningProcess_RLL                   -5.000000e-01            -0.500000   \n",
            "Gender_Female                          1.386750e-01            -0.277350   \n",
            "Gender_Male                           -1.386750e-01             0.277350   \n",
            "\n",
            "                                LearningProcess_RLL  Gender_Female  \\\n",
            "ChangeInTestScore                          0.278170       0.071640   \n",
            "LearningProcessEvaluationScore             0.280158      -0.194254   \n",
            "LearningProcess_ALL                       -0.500000       0.138675   \n",
            "LearningProcess_HLL                       -0.500000      -0.277350   \n",
            "LearningProcess_RLL                        1.000000       0.138675   \n",
            "Gender_Female                              0.138675       1.000000   \n",
            "Gender_Male                               -0.138675      -1.000000   \n",
            "\n",
            "                                Gender_Male  \n",
            "ChangeInTestScore                 -0.071640  \n",
            "LearningProcessEvaluationScore     0.194254  \n",
            "LearningProcess_ALL               -0.138675  \n",
            "LearningProcess_HLL                0.277350  \n",
            "LearningProcess_RLL               -0.138675  \n",
            "Gender_Female                     -1.000000  \n",
            "Gender_Male                        1.000000  \n"
          ]
        }
      ]
    },
    {
      "cell_type": "code",
      "source": [
        "# Separate data for each teaching method\n",
        "teaching_method1_data = data[data['TeachingMethod'] == 'Application']['ScoreChange']\n",
        "teaching_method2_data = data[data['TeachingMethod'] == 'Human Tutor']['ScoreChange']\n",
        "teaching_method3_data = data[data['TeachingMethod'] == 'NAO']['ScoreChange']\n",
        "\n",
        "# Levene's test (replace with actual method names)\n",
        "w_statistic, p_value = levene(teaching_method1_data, teaching_method2_data, teaching_method3_data)\n",
        "\n",
        "print(f\"Levene's test statistic: {w_statistic}\")\n",
        "print(f\"p-value: {p_value}\")\n",
        "\n",
        "# Interpretation\n",
        "if p_value > 0.05:\n",
        "    print(\"Fail to reject the null hypothesis of equal variances.\")\n",
        "else:\n",
        "    print(\"Reject the null hypothesis of equal variances.\")"
      ],
      "metadata": {
        "colab": {
          "base_uri": "https://localhost:8080/"
        },
        "id": "69K9t-zgk0xo",
        "outputId": "b871b57d-ead6-4c91-b0a6-1f349022a450"
      },
      "execution_count": null,
      "outputs": [
        {
          "output_type": "stream",
          "name": "stdout",
          "text": [
            "Levene's test statistic: 0.8913738019169329\n",
            "p-value: 0.4274379268498227\n",
            "Fail to reject the null hypothesis of equal variances.\n"
          ]
        }
      ]
    },
    {
      "cell_type": "code",
      "source": [
        "# Separate features (including the group variable) and the target variable\n",
        "features = data.drop('ScoreChange', axis=1)\n",
        "target_variable = data['ScoreChange']\n",
        "\n",
        "groups = np.unique(features['TeachingMethod'])  # Get unique group labels\n",
        "\n",
        "# Perform pairwise t-tests with Bonferroni correction\n",
        "for i in range(len(groups) - 1):\n",
        "  for j in range(i + 1, len(groups)):\n",
        "    _, p_value = ttest_ind(target_variable[features['TeachingMethod'] == groups[i]],\n",
        "                           target_variable[features['TeachingMethod'] == groups[j]])\n",
        "    alpha_adjusted = 0.05 / (len(groups) * (len(groups) - 1) / 2)  # Bonferroni correction\n",
        "    if p_value < alpha_adjusted:\n",
        "      print(f\"Significant difference between {groups[i]} and {groups[j]} (p-value: {p_value:.4f})\")\n",
        "    else:\n",
        "      print(p_value)\n",
        "      print(alpha_adjusted)"
      ],
      "metadata": {
        "colab": {
          "base_uri": "https://localhost:8080/"
        },
        "id": "m5p7gH_DzR66",
        "outputId": "cb1ab825-cd0c-4b8b-ec7f-b635b00a0196"
      },
      "execution_count": null,
      "outputs": [
        {
          "output_type": "stream",
          "name": "stdout",
          "text": [
            "0.295539594516705\n",
            "0.016666666666666666\n",
            "0.0839899482776256\n",
            "0.016666666666666666\n",
            "0.6032164494297924\n",
            "0.016666666666666666\n"
          ]
        }
      ]
    }
  ]
}