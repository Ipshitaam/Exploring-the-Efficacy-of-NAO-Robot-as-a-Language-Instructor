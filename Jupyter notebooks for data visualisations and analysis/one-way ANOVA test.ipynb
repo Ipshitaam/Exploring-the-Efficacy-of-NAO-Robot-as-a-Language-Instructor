{
  "cells": [
    {
      "cell_type": "markdown",
      "metadata": {
        "id": "nFlAZKwDaF26"
      },
      "source": [
        "This cell block is for importing all the required libraries"
      ]
    },
    {
      "cell_type": "code",
      "execution_count": null,
      "metadata": {
        "id": "TxaqVXM2SI2b"
      },
      "outputs": [],
      "source": [
        "import pandas as pd\n",
        "import numpy as np\n",
        "from scipy import stats\n",
        "from scipy.stats import levene\n",
        "from statsmodels.formula.api import ols\n",
        "import statsmodels.formula.api as smf\n",
        "from statsmodels.stats.anova import anova_lm\n",
        "from scipy.stats import ttest_ind"
      ]
    },
    {
      "cell_type": "code",
      "execution_count": 14,
      "metadata": {
        "id": "GffrhVs4cbej"
      },
      "outputs": [],
      "source": [
        "# Specify the path to your CSV file on Google Drive (replace with your actual path)\n",
        "data_path = 'C:\\Users\\SAMEER\\All Form Data.csv'\n",
        "\n",
        "# Read the data from the CSV file\n",
        "data = pd.read_csv(data_path)"
      ]
    },
    {
      "cell_type": "markdown",
      "metadata": {
        "id": "PC5BbVtJkVGB"
      },
      "source": [
        "This cell block contains code to perfoerm the ANOVA test"
      ]
    },
    {
      "cell_type": "code",
      "execution_count": 15,
      "metadata": {
        "colab": {
          "base_uri": "https://localhost:8080/"
        },
        "id": "yFmxOJ0VdA2y",
        "outputId": "f4ad3d87-cabd-4ad7-9724-104a94aacb3f"
      },
      "outputs": [
        {
          "name": "stdout",
          "output_type": "stream",
          "text": [
            "               sum_sq    df         F    PR(>F)\n",
            "C(Gender)    1.238095   1.0  0.098016  0.757634\n",
            "Residual   240.000000  19.0       NaN       NaN\n"
          ]
        }
      ],
      "source": [
        "# Fit the ANOVA model with ScoreChange as the target variable and TeachingMethod as the grouping variable:\n",
        "model = smf.ols(\"ChangeInScore ~ C(Gender)\", data=data).fit()\n",
        "\n",
        "# Perform ANOVA with type 2 tests for mixed effects:\n",
        "results = anova_lm(model, typ=2)\n",
        "\n",
        "# Print the results:\n",
        "print(results)"
      ]
    },
    {
      "cell_type": "code",
      "execution_count": null,
      "metadata": {
        "colab": {
          "base_uri": "https://localhost:8080/"
        },
        "id": "69K9t-zgk0xo",
        "outputId": "b871b57d-ead6-4c91-b0a6-1f349022a450"
      },
      "outputs": [
        {
          "name": "stdout",
          "output_type": "stream",
          "text": [
            "Levene's test statistic: 0.8913738019169329\n",
            "p-value: 0.4274379268498227\n",
            "Fail to reject the null hypothesis of equal variances.\n"
          ]
        }
      ],
      "source": [
        "# Separate data for each teaching method\n",
        "teaching_method1_data = data[data['TeachingMethod'] == 'Application']['ScoreChange']\n",
        "teaching_method2_data = data[data['TeachingMethod'] == 'Human Tutor']['ScoreChange']\n",
        "teaching_method3_data = data[data['TeachingMethod'] == 'NAO']['ScoreChange']\n",
        "\n",
        "# Levene's test (replace with actual method names)\n",
        "w_statistic, p_value = levene(teaching_method1_data, teaching_method2_data, teaching_method3_data)\n",
        "\n",
        "print(f\"Levene's test statistic: {w_statistic}\")\n",
        "print(f\"p-value: {p_value}\")\n",
        "\n",
        "# Interpretation\n",
        "if p_value > 0.05:\n",
        "    print(\"Fail to reject the null hypothesis of equal variances.\")\n",
        "else:\n",
        "    print(\"Reject the null hypothesis of equal variances.\")"
      ]
    },
    {
      "cell_type": "code",
      "execution_count": null,
      "metadata": {
        "colab": {
          "base_uri": "https://localhost:8080/"
        },
        "id": "m5p7gH_DzR66",
        "outputId": "cb1ab825-cd0c-4b8b-ec7f-b635b00a0196"
      },
      "outputs": [
        {
          "name": "stdout",
          "output_type": "stream",
          "text": [
            "0.295539594516705\n",
            "0.016666666666666666\n",
            "0.0839899482776256\n",
            "0.016666666666666666\n",
            "0.6032164494297924\n",
            "0.016666666666666666\n"
          ]
        }
      ],
      "source": [
        "# Separate features (including the group variable) and the target variable\n",
        "features = data.drop('ScoreChange', axis=1)\n",
        "target_variable = data['ScoreChange']\n",
        "\n",
        "groups = np.unique(features['TeachingMethod'])  # Get unique group labels\n",
        "\n",
        "# Perform pairwise t-tests with Bonferroni correction\n",
        "for i in range(len(groups) - 1):\n",
        "  for j in range(i + 1, len(groups)):\n",
        "    _, p_value = ttest_ind(target_variable[features['TeachingMethod'] == groups[i]],\n",
        "                           target_variable[features['TeachingMethod'] == groups[j]])\n",
        "    alpha_adjusted = 0.05 / (len(groups) * (len(groups) - 1) / 2)  # Bonferroni correction\n",
        "    if p_value < alpha_adjusted:\n",
        "      print(f\"Significant difference between {groups[i]} and {groups[j]} (p-value: {p_value:.4f})\")\n",
        "    else:\n",
        "      print(p_value)\n",
        "      print(alpha_adjusted)"
      ]
    }
  ],
  "metadata": {
    "colab": {
      "provenance": []
    },
    "kernelspec": {
      "display_name": "Python 3",
      "name": "python3"
    },
    "language_info": {
      "name": "python"
    }
  },
  "nbformat": 4,
  "nbformat_minor": 0
}
