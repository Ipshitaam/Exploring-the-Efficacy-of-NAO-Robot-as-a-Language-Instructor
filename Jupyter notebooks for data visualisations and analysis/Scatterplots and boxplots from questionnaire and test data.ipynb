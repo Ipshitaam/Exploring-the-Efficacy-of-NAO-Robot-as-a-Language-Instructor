{
 "cells": [
  {
   "cell_type": "markdown",
   "id": "90f7492b",
   "metadata": {},
   "source": [
    "**This cell contains code to plot the graphs for numerical data. The code prompts to choose which data will be used for the dependent variable (y-axis) and plots the graphs of all variables against the chosen variable in the y-axis along with the Pearson's correlation co-efficient. These plots give a rudimentary idea on the relationship between the variables.**"
   ]
  },
  {
   "cell_type": "code",
   "execution_count": 34,
   "id": "fa0ce508",
   "metadata": {},
   "outputs": [
    {
     "name": "stdout",
     "output_type": "stream",
     "text": [
      "Enter the column name for y-axis: Score Change\n",
      "Error calculating correlation for Score Change and What is your gender?. Skipping plot.\n",
      "Error calculating correlation for Score Change and What class are you in?. Skipping plot.\n",
      "Error calculating correlation for Score Change and What did you like best about the session?. Skipping plot.\n",
      "Done!\n"
     ]
    }
   ],
   "source": [
    "import pandas as pd\n",
    "import matplotlib.pyplot as plt\n",
    "from matplotlib.backends.backend_pdf import PdfPages\n",
    "\n",
    "def read_csv_data(filename):\n",
    "    \"\"\"Reads a CSV file and returns a Pandas DataFrame.\"\"\"\n",
    "    try:\n",
    "        df = pd.read_csv(filename)\n",
    "        return df\n",
    "    except FileNotFoundError:\n",
    "        print(f\"Error: File {filename} not found!\")\n",
    "        return None\n",
    "\n",
    "def plot_scatter(df, y_col, x_col, ax):\n",
    "    \"\"\"Plots a scatterplot on the provided Axes object.\"\"\"\n",
    "    ax.scatter(df[x_col], df[y_col])\n",
    "    ax.set_xlabel(x_col)\n",
    "    ax.set_ylabel(y_col)\n",
    "    ax.set_title(f\"Scatter Plot of {x_col} vs {y_col}\")\n",
    "    ax.grid(True)\n",
    "    return ax  # Return the modified axis object\n",
    "\n",
    "# Read the data\n",
    "data = read_csv_data(\"Participants for Tutor.csv\")  # Replace with your filename\n",
    "\n",
    "if data is not None:\n",
    "    y_axis_choice = input(\"Enter the column name for y-axis: \")\n",
    "    if y_axis_choice in data.columns:\n",
    "        filename = \"scatter_plots_with_{}_as_y_axis.pdf\".format(y_axis_choice)  # Adjust filename as needed\n",
    "        with PdfPages(filename) as pdf:  # Context manager for PDF creation\n",
    "            for x_col in data.columns:\n",
    "                if x_col != y_axis_choice:\n",
    "                    fig, ax = plt.subplots()  # Create a new figure and axis\n",
    "                    try:\n",
    "                        correlation = data[y_axis_choice].corr(data[x_col])\n",
    "                    except TypeError:  # Handle potential type errors during correlation calculation\n",
    "                        print(f\"Error calculating correlation for {y_axis_choice} and {x_col}. Skipping plot.\")\n",
    "                        plt.close(fig)  # Close the empty figure\n",
    "                        continue\n",
    "\n",
    "                    if pd.api.types.is_numeric_dtype(data[x_col]):\n",
    "                        ax = plot_scatter(data, y_axis_choice, x_col, ax)\n",
    "                        fig.suptitle(f\"Scatter Plot of {x_col} vs {y_axis_choice} (correlation: {correlation:.2f})\")  # Set figure title\n",
    "                    else:\n",
    "                        print(f\"Skipping plot: Column '{x_col}' contains non-numeric data.\")\n",
    "                        plt.close(fig)  # Close the empty figure\n",
    "                        continue\n",
    "\n",
    "                    # Save only if a plot was created (using modified functions)\n",
    "                    if len(ax.lines) > 0 or len(ax.collections) > 0:\n",
    "                        pdf.savefig(fig)\n",
    "                    plt.close(fig)\n",
    "    else:\n",
    "        print(\"Invalid column name for y-axis!\")\n",
    "        \n",
    "print(\"Done!\")"
   ]
  },
  {
   "cell_type": "markdown",
   "id": "7161ac06",
   "metadata": {},
   "source": [
    "**This cell contains the code to plot categorical data. We choose a variable and the code plots all other variables against this variable fixed on the x-axis as the independent variable.**"
   ]
  },
  {
   "cell_type": "code",
   "execution_count": 39,
   "id": "0c59b13e",
   "metadata": {},
   "outputs": [],
   "source": [
    "import pandas as pd\n",
    "import matplotlib.pyplot as plt\n",
    "\n",
    "# Specify the path to your CSV file\n",
    "csv_path = \"All Test Data.csv\"\n",
    "\n",
    "# Load the data into a pandas DataFrame\n",
    "df = pd.read_csv(csv_path)\n",
    "\n",
    "# Create separate boxplots for each numeric column (excluding Gender)\n",
    "for col in df.columns:\n",
    "    if col != 'Teaching Method':\n",
    "        plt.figure()\n",
    "        plt.boxplot([df[col][df['Teaching Method'] == 'Human Tutor'], df[col][df['Teaching Method'] == 'Mobile Application'], df[col][df['Teaching Method'] == 'NAO Robot']], labels=['Human Tutor', 'Mobile Application', 'NAO Robot'])\n",
    "        plt.xlabel('Teaching Method')\n",
    "        plt.ylabel(col)\n",
    "        plt.title(f'{col} vs Teaching Method')\n",
    "        plt.savefig(f'{col}_vs_Teaching Method.pdf', dpi=300, bbox_inches='tight')  # Save as PDF with high quality\n",
    "        plt.close()  # Close the current plot to avoid overlapping"
   ]
  },
  {
   "cell_type": "code",
   "execution_count": null,
   "id": "fece5399",
   "metadata": {},
   "outputs": [],
   "source": []
  }
 ],
 "metadata": {
  "kernelspec": {
   "display_name": "Python 3 (ipykernel)",
   "language": "python",
   "name": "python3"
  },
  "language_info": {
   "codemirror_mode": {
    "name": "ipython",
    "version": 3
   },
   "file_extension": ".py",
   "mimetype": "text/x-python",
   "name": "python",
   "nbconvert_exporter": "python",
   "pygments_lexer": "ipython3",
   "version": "3.11.5"
  }
 },
 "nbformat": 4,
 "nbformat_minor": 5
}
